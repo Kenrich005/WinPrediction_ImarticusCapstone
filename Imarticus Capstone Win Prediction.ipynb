{
 "cells": [
  {
   "cell_type": "markdown",
   "metadata": {},
   "source": [
    "# Win Prediction\n",
    "               - Imarticus DSP_Online_02 Group K"
   ]
  },
  {
   "cell_type": "code",
   "execution_count": 1,
   "metadata": {},
   "outputs": [],
   "source": [
    "# Importing libraries\n",
    "import os\n",
    "import pandas as pd\n",
    "import numpy as np\n",
    "import matplotlib.pyplot as plt\n",
    "import seaborn as sns\n",
    "%matplotlib inline"
   ]
  },
  {
   "cell_type": "code",
   "execution_count": 2,
   "metadata": {},
   "outputs": [
    {
     "data": {
      "text/html": [
       "<div>\n",
       "<style scoped>\n",
       "    .dataframe tbody tr th:only-of-type {\n",
       "        vertical-align: middle;\n",
       "    }\n",
       "\n",
       "    .dataframe tbody tr th {\n",
       "        vertical-align: top;\n",
       "    }\n",
       "\n",
       "    .dataframe thead th {\n",
       "        text-align: right;\n",
       "    }\n",
       "</style>\n",
       "<table border=\"1\" class=\"dataframe\">\n",
       "  <thead>\n",
       "    <tr style=\"text-align: right;\">\n",
       "      <th></th>\n",
       "      <th>Client Category</th>\n",
       "      <th>Solution Type</th>\n",
       "      <th>Deal Date</th>\n",
       "      <th>Sector</th>\n",
       "      <th>Location</th>\n",
       "      <th>VP Name</th>\n",
       "      <th>Manager Name</th>\n",
       "      <th>Deal Cost</th>\n",
       "      <th>Deal Status Code</th>\n",
       "    </tr>\n",
       "  </thead>\n",
       "  <tbody>\n",
       "    <tr>\n",
       "      <th>0</th>\n",
       "      <td>Telecom</td>\n",
       "      <td>Solution 7</td>\n",
       "      <td>2012-03-27</td>\n",
       "      <td>Sector 24</td>\n",
       "      <td>L5</td>\n",
       "      <td>Ekta Zutshi</td>\n",
       "      <td>Gopa Trilochana</td>\n",
       "      <td>150000.00</td>\n",
       "      <td>Won</td>\n",
       "    </tr>\n",
       "    <tr>\n",
       "      <th>1</th>\n",
       "      <td>Telecom</td>\n",
       "      <td>Solution 7</td>\n",
       "      <td>2012-09-25</td>\n",
       "      <td>Sector 24</td>\n",
       "      <td>L5</td>\n",
       "      <td>Ekta Zutshi</td>\n",
       "      <td>Gopa Trilochana</td>\n",
       "      <td>744705.88</td>\n",
       "      <td>Won</td>\n",
       "    </tr>\n",
       "    <tr>\n",
       "      <th>2</th>\n",
       "      <td>Internal</td>\n",
       "      <td>Solution 59</td>\n",
       "      <td>2011-08-01</td>\n",
       "      <td>Sector 20</td>\n",
       "      <td>Others</td>\n",
       "      <td>Ekta Zutshi</td>\n",
       "      <td>Russell Dahlen</td>\n",
       "      <td>60000.00</td>\n",
       "      <td>Lost</td>\n",
       "    </tr>\n",
       "    <tr>\n",
       "      <th>3</th>\n",
       "      <td>Internal</td>\n",
       "      <td>Solution 59</td>\n",
       "      <td>2011-04-28</td>\n",
       "      <td>Sector 20</td>\n",
       "      <td>Others</td>\n",
       "      <td>Ekta Zutshi</td>\n",
       "      <td>Russell Dahlen</td>\n",
       "      <td>60000.00</td>\n",
       "      <td>Lost</td>\n",
       "    </tr>\n",
       "    <tr>\n",
       "      <th>4</th>\n",
       "      <td>Internal</td>\n",
       "      <td>Solution 32</td>\n",
       "      <td>2011-06-03</td>\n",
       "      <td>Sector 20</td>\n",
       "      <td>Others</td>\n",
       "      <td>Ekta Zutshi</td>\n",
       "      <td>Russell Dahlen</td>\n",
       "      <td>80882.35</td>\n",
       "      <td>Lost</td>\n",
       "    </tr>\n",
       "  </tbody>\n",
       "</table>\n",
       "</div>"
      ],
      "text/plain": [
       "  Client Category Solution Type  Deal Date     Sector Location      VP Name  \\\n",
       "0         Telecom    Solution 7 2012-03-27  Sector 24       L5  Ekta Zutshi   \n",
       "1         Telecom    Solution 7 2012-09-25  Sector 24       L5  Ekta Zutshi   \n",
       "2        Internal   Solution 59 2011-08-01  Sector 20   Others  Ekta Zutshi   \n",
       "3        Internal   Solution 59 2011-04-28  Sector 20   Others  Ekta Zutshi   \n",
       "4        Internal   Solution 32 2011-06-03  Sector 20   Others  Ekta Zutshi   \n",
       "\n",
       "      Manager Name  Deal Cost Deal Status Code  \n",
       "0  Gopa Trilochana  150000.00              Won  \n",
       "1  Gopa Trilochana  744705.88              Won  \n",
       "2   Russell Dahlen   60000.00             Lost  \n",
       "3   Russell Dahlen   60000.00             Lost  \n",
       "4   Russell Dahlen   80882.35             Lost  "
      ]
     },
     "execution_count": 2,
     "metadata": {},
     "output_type": "execute_result"
    }
   ],
   "source": [
    "# Reading the data\n",
    "df = pd.read_excel('Win_Prediction_Data.xlsx')\n",
    "df.head()"
   ]
  },
  {
   "cell_type": "code",
   "execution_count": 3,
   "metadata": {},
   "outputs": [
    {
     "name": "stdout",
     "output_type": "stream",
     "text": [
      "<class 'pandas.core.frame.DataFrame'>\n",
      "RangeIndex: 10061 entries, 0 to 10060\n",
      "Data columns (total 9 columns):\n",
      " #   Column            Non-Null Count  Dtype         \n",
      "---  ------            --------------  -----         \n",
      " 0   Client Category   9982 non-null   object        \n",
      " 1   Solution Type     10061 non-null  object        \n",
      " 2   Deal Date         10061 non-null  datetime64[ns]\n",
      " 3   Sector            10061 non-null  object        \n",
      " 4   Location          10061 non-null  object        \n",
      " 5   VP Name           10061 non-null  object        \n",
      " 6   Manager Name      10061 non-null  object        \n",
      " 7   Deal Cost         10061 non-null  float64       \n",
      " 8   Deal Status Code  10061 non-null  object        \n",
      "dtypes: datetime64[ns](1), float64(1), object(7)\n",
      "memory usage: 707.5+ KB\n"
     ]
    }
   ],
   "source": [
    "# Preliminary Analysis\n",
    "df.info()"
   ]
  },
  {
   "cell_type": "markdown",
   "metadata": {},
   "source": [
    "There are few null values in the Client Category column."
   ]
  },
  {
   "cell_type": "markdown",
   "metadata": {},
   "source": [
    "Deal Date column is already in datetime format.  \n",
    "Hence, not needed to convert it again."
   ]
  },
  {
   "cell_type": "code",
   "execution_count": 4,
   "metadata": {},
   "outputs": [
    {
     "data": {
      "text/html": [
       "<div>\n",
       "<style scoped>\n",
       "    .dataframe tbody tr th:only-of-type {\n",
       "        vertical-align: middle;\n",
       "    }\n",
       "\n",
       "    .dataframe tbody tr th {\n",
       "        vertical-align: top;\n",
       "    }\n",
       "\n",
       "    .dataframe thead th {\n",
       "        text-align: right;\n",
       "    }\n",
       "</style>\n",
       "<table border=\"1\" class=\"dataframe\">\n",
       "  <thead>\n",
       "    <tr style=\"text-align: right;\">\n",
       "      <th></th>\n",
       "      <th>Deal Cost</th>\n",
       "    </tr>\n",
       "  </thead>\n",
       "  <tbody>\n",
       "    <tr>\n",
       "      <th>count</th>\n",
       "      <td>10061.00</td>\n",
       "    </tr>\n",
       "    <tr>\n",
       "      <th>mean</th>\n",
       "      <td>766896.87</td>\n",
       "    </tr>\n",
       "    <tr>\n",
       "      <th>std</th>\n",
       "      <td>1619893.80</td>\n",
       "    </tr>\n",
       "    <tr>\n",
       "      <th>min</th>\n",
       "      <td>0.00</td>\n",
       "    </tr>\n",
       "    <tr>\n",
       "      <th>25%</th>\n",
       "      <td>189705.88</td>\n",
       "    </tr>\n",
       "    <tr>\n",
       "      <th>50%</th>\n",
       "      <td>382352.94</td>\n",
       "    </tr>\n",
       "    <tr>\n",
       "      <th>75%</th>\n",
       "      <td>764705.88</td>\n",
       "    </tr>\n",
       "    <tr>\n",
       "      <th>max</th>\n",
       "      <td>36764705.88</td>\n",
       "    </tr>\n",
       "  </tbody>\n",
       "</table>\n",
       "</div>"
      ],
      "text/plain": [
       "         Deal Cost\n",
       "count     10061.00\n",
       "mean     766896.87\n",
       "std     1619893.80\n",
       "min           0.00\n",
       "25%      189705.88\n",
       "50%      382352.94\n",
       "75%      764705.88\n",
       "max    36764705.88"
      ]
     },
     "execution_count": 4,
     "metadata": {},
     "output_type": "execute_result"
    }
   ],
   "source": [
    "df.describe().round(2)"
   ]
  },
  {
   "cell_type": "markdown",
   "metadata": {},
   "source": [
    "Only one numerical column."
   ]
  },
  {
   "cell_type": "markdown",
   "metadata": {},
   "source": [
    "## Step 1: Data Cleaning\n",
    "We need to impute the null values in the Client Category column."
   ]
  },
  {
   "cell_type": "code",
   "execution_count": 5,
   "metadata": {},
   "outputs": [
    {
     "data": {
      "text/plain": [
       "Others                   1763\n",
       "Internal                 1454\n",
       "Services_based           1202\n",
       "Tech                      913\n",
       "Domestic Public Bank      419\n",
       "International Bank        376\n",
       "Consulting                352\n",
       "Finance                   339\n",
       "Telecom                   327\n",
       "Power ind                 264\n",
       "Domestic Private Bank     262\n",
       "Insurance                 247\n",
       "Consumer Good             185\n",
       "Automobiles               178\n",
       "Infrastructure            152\n",
       "Domestic Bank             134\n",
       "Retail_market             126\n",
       "Govt                      121\n",
       "Hospitality               119\n",
       "Manufacturing             117\n",
       "Pharma                    110\n",
       "Healthcare                 99\n",
       "Electronics                81\n",
       "Media_Journal              71\n",
       "Industries                 66\n",
       "Research Development       63\n",
       "Energy                     57\n",
       "Knowledge                  50\n",
       "Management                 43\n",
       "Govt Bank Special          41\n",
       "Payment                    40\n",
       "Energy                     37\n",
       "e-commerce                 32\n",
       "Airpline                   27\n",
       "International Org          25\n",
       "Holding                    25\n",
       "Logistics                  20\n",
       "Real Estate                19\n",
       "Share_market               14\n",
       "Tax_audit                   7\n",
       "Medical                     5\n",
       "Name: Client Category, dtype: int64"
      ]
     },
     "execution_count": 5,
     "metadata": {},
     "output_type": "execute_result"
    }
   ],
   "source": [
    "df['Client Category'].value_counts()"
   ]
  },
  {
   "cell_type": "code",
   "execution_count": 6,
   "metadata": {},
   "outputs": [
    {
     "data": {
      "image/png": "[encoded data removed]",
      "text/plain": [
       "<Figure size 720x720 with 2 Axes>"
      ]
     },
     "metadata": {
      "needs_background": "light"
     },
     "output_type": "display_data"
    }
   ],
   "source": [
    "plt.figure(figsize = (10,10))\n",
    "sns.heatmap(df.isna());"
   ]
  },
  {
   "cell_type": "code",
   "execution_count": 7,
   "metadata": {},
   "outputs": [
    {
     "data": {
      "text/html": [
       "<div>\n",
       "<style scoped>\n",
       "    .dataframe tbody tr th:only-of-type {\n",
       "        vertical-align: middle;\n",
       "    }\n",
       "\n",
       "    .dataframe tbody tr th {\n",
       "        vertical-align: top;\n",
       "    }\n",
       "\n",
       "    .dataframe thead th {\n",
       "        text-align: right;\n",
       "    }\n",
       "</style>\n",
       "<table border=\"1\" class=\"dataframe\">\n",
       "  <thead>\n",
       "    <tr style=\"text-align: right;\">\n",
       "      <th></th>\n",
       "      <th>Client Category</th>\n",
       "      <th>Solution Type</th>\n",
       "      <th>Deal Date</th>\n",
       "      <th>Sector</th>\n",
       "      <th>Location</th>\n",
       "      <th>VP Name</th>\n",
       "      <th>Manager Name</th>\n",
       "      <th>Deal Cost</th>\n",
       "      <th>Deal Status Code</th>\n",
       "    </tr>\n",
       "  </thead>\n",
       "  <tbody>\n",
       "    <tr>\n",
       "      <th>488</th>\n",
       "      <td>NaN</td>\n",
       "      <td>Solution 7</td>\n",
       "      <td>2018-10-05</td>\n",
       "      <td>Sector 12</td>\n",
       "      <td>L10</td>\n",
       "      <td>Ankita Aggarwal</td>\n",
       "      <td>Kizzie Troxel</td>\n",
       "      <td>441176.47</td>\n",
       "      <td>Lost</td>\n",
       "    </tr>\n",
       "    <tr>\n",
       "      <th>491</th>\n",
       "      <td>NaN</td>\n",
       "      <td>Solution 7</td>\n",
       "      <td>2019-01-06</td>\n",
       "      <td>Sector 12</td>\n",
       "      <td>L10</td>\n",
       "      <td>Ankita Aggarwal</td>\n",
       "      <td>Kizzie Troxel</td>\n",
       "      <td>441176.47</td>\n",
       "      <td>Lost</td>\n",
       "    </tr>\n",
       "    <tr>\n",
       "      <th>518</th>\n",
       "      <td>NaN</td>\n",
       "      <td>Solution 10</td>\n",
       "      <td>2012-01-12</td>\n",
       "      <td>Sector 19</td>\n",
       "      <td>L10</td>\n",
       "      <td>Mangesh K. Singh</td>\n",
       "      <td>Hardeep Suksma</td>\n",
       "      <td>38235.29</td>\n",
       "      <td>Won</td>\n",
       "    </tr>\n",
       "    <tr>\n",
       "      <th>732</th>\n",
       "      <td>NaN</td>\n",
       "      <td>Solution 10</td>\n",
       "      <td>2013-11-08</td>\n",
       "      <td>Sector 23</td>\n",
       "      <td>L10</td>\n",
       "      <td>Rosanna Maynez</td>\n",
       "      <td>Sohil Kumar</td>\n",
       "      <td>58823.53</td>\n",
       "      <td>Won</td>\n",
       "    </tr>\n",
       "    <tr>\n",
       "      <th>1128</th>\n",
       "      <td>NaN</td>\n",
       "      <td>Solution 37</td>\n",
       "      <td>2013-09-27</td>\n",
       "      <td>Sector 24</td>\n",
       "      <td>L10</td>\n",
       "      <td>Mervin Harwood</td>\n",
       "      <td>Marcelo Riles</td>\n",
       "      <td>311764.71</td>\n",
       "      <td>Lost</td>\n",
       "    </tr>\n",
       "    <tr>\n",
       "      <th>...</th>\n",
       "      <td>...</td>\n",
       "      <td>...</td>\n",
       "      <td>...</td>\n",
       "      <td>...</td>\n",
       "      <td>...</td>\n",
       "      <td>...</td>\n",
       "      <td>...</td>\n",
       "      <td>...</td>\n",
       "      <td>...</td>\n",
       "    </tr>\n",
       "    <tr>\n",
       "      <th>9477</th>\n",
       "      <td>NaN</td>\n",
       "      <td>Solution 32</td>\n",
       "      <td>2018-09-26</td>\n",
       "      <td>Sector 23</td>\n",
       "      <td>L10</td>\n",
       "      <td>Long Bergstrom</td>\n",
       "      <td>Md Irshad</td>\n",
       "      <td>588235.29</td>\n",
       "      <td>Lost</td>\n",
       "    </tr>\n",
       "    <tr>\n",
       "      <th>9753</th>\n",
       "      <td>NaN</td>\n",
       "      <td>Solution 9</td>\n",
       "      <td>2018-08-04</td>\n",
       "      <td>Sector 19</td>\n",
       "      <td>L10</td>\n",
       "      <td>Gopa Trilochana</td>\n",
       "      <td>Darla Dickinson</td>\n",
       "      <td>485294.12</td>\n",
       "      <td>Won</td>\n",
       "    </tr>\n",
       "    <tr>\n",
       "      <th>9819</th>\n",
       "      <td>NaN</td>\n",
       "      <td>Solution 9</td>\n",
       "      <td>2018-09-15</td>\n",
       "      <td>Sector 19</td>\n",
       "      <td>L10</td>\n",
       "      <td>Clinton Mani</td>\n",
       "      <td>Sanchita Gulati</td>\n",
       "      <td>720588.24</td>\n",
       "      <td>Won</td>\n",
       "    </tr>\n",
       "    <tr>\n",
       "      <th>9904</th>\n",
       "      <td>NaN</td>\n",
       "      <td>Solution 14</td>\n",
       "      <td>2018-11-29</td>\n",
       "      <td>Sector 12</td>\n",
       "      <td>L10</td>\n",
       "      <td>Mangesh K. Singh</td>\n",
       "      <td>keshar ansari</td>\n",
       "      <td>529411.77</td>\n",
       "      <td>Won</td>\n",
       "    </tr>\n",
       "    <tr>\n",
       "      <th>9993</th>\n",
       "      <td>NaN</td>\n",
       "      <td>Solution 9</td>\n",
       "      <td>2019-02-09</td>\n",
       "      <td>Sector 24</td>\n",
       "      <td>L10</td>\n",
       "      <td>Gopa Trilochana</td>\n",
       "      <td>Ali Rafiq</td>\n",
       "      <td>227941.18</td>\n",
       "      <td>Won</td>\n",
       "    </tr>\n",
       "  </tbody>\n",
       "</table>\n",
       "<p>79 rows × 9 columns</p>\n",
       "</div>"
      ],
      "text/plain": [
       "     Client Category Solution Type  Deal Date     Sector Location  \\\n",
       "488              NaN    Solution 7 2018-10-05  Sector 12      L10   \n",
       "491              NaN    Solution 7 2019-01-06  Sector 12      L10   \n",
       "518              NaN   Solution 10 2012-01-12  Sector 19      L10   \n",
       "732              NaN   Solution 10 2013-11-08  Sector 23      L10   \n",
       "1128             NaN   Solution 37 2013-09-27  Sector 24      L10   \n",
       "...              ...           ...        ...        ...      ...   \n",
       "9477             NaN   Solution 32 2018-09-26  Sector 23      L10   \n",
       "9753             NaN    Solution 9 2018-08-04  Sector 19      L10   \n",
       "9819             NaN    Solution 9 2018-09-15  Sector 19      L10   \n",
       "9904             NaN   Solution 14 2018-11-29  Sector 12      L10   \n",
       "9993             NaN    Solution 9 2019-02-09  Sector 24      L10   \n",
       "\n",
       "               VP Name     Manager Name  Deal Cost Deal Status Code  \n",
       "488    Ankita Aggarwal    Kizzie Troxel  441176.47             Lost  \n",
       "491    Ankita Aggarwal    Kizzie Troxel  441176.47             Lost  \n",
       "518   Mangesh K. Singh   Hardeep Suksma   38235.29              Won  \n",
       "732     Rosanna Maynez      Sohil Kumar   58823.53              Won  \n",
       "1128    Mervin Harwood    Marcelo Riles  311764.71             Lost  \n",
       "...                ...              ...        ...              ...  \n",
       "9477    Long Bergstrom        Md Irshad  588235.29             Lost  \n",
       "9753   Gopa Trilochana  Darla Dickinson  485294.12              Won  \n",
       "9819      Clinton Mani  Sanchita Gulati  720588.24              Won  \n",
       "9904  Mangesh K. Singh    keshar ansari  529411.77              Won  \n",
       "9993   Gopa Trilochana        Ali Rafiq  227941.18              Won  \n",
       "\n",
       "[79 rows x 9 columns]"
      ]
     },
     "execution_count": 7,
     "metadata": {},
     "output_type": "execute_result"
    }
   ],
   "source": [
    "df[df['Client Category'].isna()]"
   ]
  },
  {
   "cell_type": "code",
   "execution_count": 8,
   "metadata": {
    "scrolled": false
   },
   "outputs": [
    {
     "name": "stdout",
     "output_type": "stream",
     "text": [
      "Series([], Name: Client Category, dtype: int64) \n",
      "\n",
      "Solution 32    12\n",
      "Solution 37    12\n",
      "Solution 67    10\n",
      "Solution 29     9\n",
      "Solution 10     7\n",
      "Solution 9      7\n",
      "Solution 12     5\n",
      "Solution 6      4\n",
      "Solution 4      2\n",
      "Solution 7      2\n",
      "Solution 8      2\n",
      "Solution 31     2\n",
      "Solution 39     1\n",
      "Solution 38     1\n",
      "Solution 42     1\n",
      "Solution 28     1\n",
      "Solution 14     1\n",
      "Name: Solution Type, dtype: int64 \n",
      "\n",
      "Sector 24    28\n",
      "Sector 19    15\n",
      "Sector 12    10\n",
      "Sector 23     8\n",
      "Sector 6      6\n",
      "Sector 3      4\n",
      "Sector 15     4\n",
      "Sector 20     2\n",
      "Sector 5      2\n",
      "Name: Sector, dtype: int64 \n",
      "\n",
      "L10    79\n",
      "Name: Location, dtype: int64 \n",
      "\n",
      "Ankita Aggarwal     13\n",
      "Mangesh K. Singh    13\n",
      "Long Bergstrom      12\n",
      "Mervin Harwood      10\n",
      "Russell Dahlen       6\n",
      "Son Mcconnaughy      6\n",
      "Rahul Bajpai         6\n",
      "Gopa Trilochana      3\n",
      "neeraj kumar         2\n",
      "Sargar Deep Rao      2\n",
      "Prashant Rawat       2\n",
      "Jewell Tunstall      1\n",
      "Rosanna Maynez       1\n",
      "Clinton Mani         1\n",
      "som dutt             1\n",
      "Name: VP Name, dtype: int64 \n",
      "\n",
      "Vaibhav singh          6\n",
      "Marcelo Riles          5\n",
      "Russell Dahlen         4\n",
      "Harsh Verma            4\n",
      "Clinton Mani           4\n",
      "Rudraksh Sharma        4\n",
      "Florencio Quiros       4\n",
      "Atul Kumar             3\n",
      "Sanchita Gulati        3\n",
      "keshar ansari          3\n",
      "Md Irshad              2\n",
      "Abram Fines            2\n",
      "Molly Eakes            2\n",
      "Kizzie Troxel          2\n",
      "Akshay Sharma          2\n",
      "kailash kumar          2\n",
      "Siddhant Gaur          2\n",
      "Kaniksh Dhyani         2\n",
      "Shalendra D.           2\n",
      "Kamelesh Srinivasan    2\n",
      "Chanchal sharma        2\n",
      "ram kumar              2\n",
      "farmaan khan           2\n",
      "Gopa Trilochana        2\n",
      "shyam kumar            1\n",
      "Desmond Krout          1\n",
      "Sohil Kumar            1\n",
      "Ali Rafiq              1\n",
      "Hardeep Suksma         1\n",
      "Atul Chaudhary         1\n",
      "David Toms             1\n",
      "Ralph Bohon            1\n",
      "Darla Dickinson        1\n",
      "Manish Saundriyal      1\n",
      "Emil Knudsen           1\n",
      "Name: Manager Name, dtype: int64 \n",
      "\n",
      "Lost    58\n",
      "Won     21\n",
      "Name: Deal Status Code, dtype: int64 \n",
      "\n"
     ]
    }
   ],
   "source": [
    "for col in df.select_dtypes(include = 'object'):    \n",
    "    print(df[df['Client Category'].isna()][col].value_counts(), '\\n')"
   ]
  },
  {
   "cell_type": "markdown",
   "metadata": {},
   "source": [
    "Through this we notice that Location for all the null values is L10."
   ]
  },
  {
   "cell_type": "markdown",
   "metadata": {},
   "source": [
    "Let's look at the Location L10 category deeper."
   ]
  },
  {
   "cell_type": "code",
   "execution_count": 9,
   "metadata": {},
   "outputs": [
    {
     "data": {
      "text/html": [
       "<div>\n",
       "<style scoped>\n",
       "    .dataframe tbody tr th:only-of-type {\n",
       "        vertical-align: middle;\n",
       "    }\n",
       "\n",
       "    .dataframe tbody tr th {\n",
       "        vertical-align: top;\n",
       "    }\n",
       "\n",
       "    .dataframe thead th {\n",
       "        text-align: right;\n",
       "    }\n",
       "</style>\n",
       "<table border=\"1\" class=\"dataframe\">\n",
       "  <thead>\n",
       "    <tr style=\"text-align: right;\">\n",
       "      <th></th>\n",
       "      <th>Client Category</th>\n",
       "      <th>Solution Type</th>\n",
       "      <th>Deal Date</th>\n",
       "      <th>Sector</th>\n",
       "      <th>Location</th>\n",
       "      <th>VP Name</th>\n",
       "      <th>Manager Name</th>\n",
       "      <th>Deal Cost</th>\n",
       "      <th>Deal Status Code</th>\n",
       "    </tr>\n",
       "  </thead>\n",
       "  <tbody>\n",
       "    <tr>\n",
       "      <th>6</th>\n",
       "      <td>Internal</td>\n",
       "      <td>Solution 59</td>\n",
       "      <td>2011-11-03</td>\n",
       "      <td>Sector 2</td>\n",
       "      <td>L10</td>\n",
       "      <td>Mervin Harwood</td>\n",
       "      <td>rahul sharma</td>\n",
       "      <td>526176.47</td>\n",
       "      <td>Won</td>\n",
       "    </tr>\n",
       "    <tr>\n",
       "      <th>8</th>\n",
       "      <td>Consumer Good</td>\n",
       "      <td>Solution 42</td>\n",
       "      <td>2012-04-11</td>\n",
       "      <td>Sector 12</td>\n",
       "      <td>L10</td>\n",
       "      <td>Lilli Storrs</td>\n",
       "      <td>Md. Daud</td>\n",
       "      <td>1032352.94</td>\n",
       "      <td>Won</td>\n",
       "    </tr>\n",
       "    <tr>\n",
       "      <th>10</th>\n",
       "      <td>International Bank</td>\n",
       "      <td>Solution 6</td>\n",
       "      <td>2012-02-11</td>\n",
       "      <td>Sector 2</td>\n",
       "      <td>L10</td>\n",
       "      <td>Long Bergstrom</td>\n",
       "      <td>Luv Malhotra</td>\n",
       "      <td>316176.47</td>\n",
       "      <td>Won</td>\n",
       "    </tr>\n",
       "    <tr>\n",
       "      <th>16</th>\n",
       "      <td>Domestic Public Bank</td>\n",
       "      <td>Solution 59</td>\n",
       "      <td>2011-10-29</td>\n",
       "      <td>Sector 2</td>\n",
       "      <td>L10</td>\n",
       "      <td>Mervin Harwood</td>\n",
       "      <td>Prateek Dhotre</td>\n",
       "      <td>2764705.88</td>\n",
       "      <td>Won</td>\n",
       "    </tr>\n",
       "    <tr>\n",
       "      <th>17</th>\n",
       "      <td>Consumer Good</td>\n",
       "      <td>Solution 37</td>\n",
       "      <td>2012-03-04</td>\n",
       "      <td>Sector 12</td>\n",
       "      <td>L10</td>\n",
       "      <td>Lilli Storrs</td>\n",
       "      <td>Md. Daud</td>\n",
       "      <td>147058.82</td>\n",
       "      <td>Won</td>\n",
       "    </tr>\n",
       "    <tr>\n",
       "      <th>...</th>\n",
       "      <td>...</td>\n",
       "      <td>...</td>\n",
       "      <td>...</td>\n",
       "      <td>...</td>\n",
       "      <td>...</td>\n",
       "      <td>...</td>\n",
       "      <td>...</td>\n",
       "      <td>...</td>\n",
       "      <td>...</td>\n",
       "    </tr>\n",
       "    <tr>\n",
       "      <th>10047</th>\n",
       "      <td>Internal</td>\n",
       "      <td>Solution 32</td>\n",
       "      <td>2019-03-20</td>\n",
       "      <td>Sector 23</td>\n",
       "      <td>L10</td>\n",
       "      <td>Jitendra Choudhary</td>\n",
       "      <td>ramdin verma</td>\n",
       "      <td>55000.00</td>\n",
       "      <td>Won</td>\n",
       "    </tr>\n",
       "    <tr>\n",
       "      <th>10049</th>\n",
       "      <td>Finance</td>\n",
       "      <td>Solution 37</td>\n",
       "      <td>2019-03-31</td>\n",
       "      <td>Sector 17</td>\n",
       "      <td>L10</td>\n",
       "      <td>Clinton Mani</td>\n",
       "      <td>Sangeet Daga</td>\n",
       "      <td>470588.24</td>\n",
       "      <td>Won</td>\n",
       "    </tr>\n",
       "    <tr>\n",
       "      <th>10052</th>\n",
       "      <td>Telecom</td>\n",
       "      <td>Solution 9</td>\n",
       "      <td>2019-05-07</td>\n",
       "      <td>Sector 24</td>\n",
       "      <td>L10</td>\n",
       "      <td>Gopa Trilochana</td>\n",
       "      <td>Darla Dickinson</td>\n",
       "      <td>823529.41</td>\n",
       "      <td>Lost</td>\n",
       "    </tr>\n",
       "    <tr>\n",
       "      <th>10055</th>\n",
       "      <td>Telecom</td>\n",
       "      <td>Solution 9</td>\n",
       "      <td>2019-05-23</td>\n",
       "      <td>Sector 24</td>\n",
       "      <td>L10</td>\n",
       "      <td>Gopa Trilochana</td>\n",
       "      <td>Darla Dickinson</td>\n",
       "      <td>823529.41</td>\n",
       "      <td>Lost</td>\n",
       "    </tr>\n",
       "    <tr>\n",
       "      <th>10060</th>\n",
       "      <td>Others</td>\n",
       "      <td>Solution 9</td>\n",
       "      <td>2019-05-30</td>\n",
       "      <td>Sector 12</td>\n",
       "      <td>L10</td>\n",
       "      <td>Son Mcconnaughy</td>\n",
       "      <td>Tarun Garg</td>\n",
       "      <td>147058.82</td>\n",
       "      <td>Lost</td>\n",
       "    </tr>\n",
       "  </tbody>\n",
       "</table>\n",
       "<p>3360 rows × 9 columns</p>\n",
       "</div>"
      ],
      "text/plain": [
       "            Client Category Solution Type  Deal Date     Sector Location  \\\n",
       "6                  Internal   Solution 59 2011-11-03   Sector 2      L10   \n",
       "8             Consumer Good   Solution 42 2012-04-11  Sector 12      L10   \n",
       "10       International Bank    Solution 6 2012-02-11   Sector 2      L10   \n",
       "16     Domestic Public Bank   Solution 59 2011-10-29   Sector 2      L10   \n",
       "17            Consumer Good   Solution 37 2012-03-04  Sector 12      L10   \n",
       "...                     ...           ...        ...        ...      ...   \n",
       "10047              Internal   Solution 32 2019-03-20  Sector 23      L10   \n",
       "10049               Finance   Solution 37 2019-03-31  Sector 17      L10   \n",
       "10052               Telecom    Solution 9 2019-05-07  Sector 24      L10   \n",
       "10055               Telecom    Solution 9 2019-05-23  Sector 24      L10   \n",
       "10060                Others    Solution 9 2019-05-30  Sector 12      L10   \n",
       "\n",
       "                  VP Name     Manager Name   Deal Cost Deal Status Code  \n",
       "6          Mervin Harwood     rahul sharma   526176.47              Won  \n",
       "8            Lilli Storrs         Md. Daud  1032352.94              Won  \n",
       "10         Long Bergstrom     Luv Malhotra   316176.47              Won  \n",
       "16         Mervin Harwood   Prateek Dhotre  2764705.88              Won  \n",
       "17           Lilli Storrs         Md. Daud   147058.82              Won  \n",
       "...                   ...              ...         ...              ...  \n",
       "10047  Jitendra Choudhary     ramdin verma    55000.00              Won  \n",
       "10049        Clinton Mani     Sangeet Daga   470588.24              Won  \n",
       "10052     Gopa Trilochana  Darla Dickinson   823529.41             Lost  \n",
       "10055     Gopa Trilochana  Darla Dickinson   823529.41             Lost  \n",
       "10060     Son Mcconnaughy       Tarun Garg   147058.82             Lost  \n",
       "\n",
       "[3360 rows x 9 columns]"
      ]
     },
     "execution_count": 9,
     "metadata": {},
     "output_type": "execute_result"
    }
   ],
   "source": [
    "df[df['Location']=='L10']"
   ]
  },
  {
   "cell_type": "code",
   "execution_count": 10,
   "metadata": {},
   "outputs": [
    {
     "data": {
      "text/plain": [
       "Others                   492\n",
       "Services_based           344\n",
       "Domestic Public Bank     327\n",
       "International Bank       243\n",
       "Internal                 223\n",
       "Tech                     196\n",
       "Finance                  196\n",
       "Domestic Private Bank    157\n",
       "Insurance                116\n",
       "Telecom                   96\n",
       "Power ind                 74\n",
       "Infrastructure            71\n",
       "Domestic Bank             65\n",
       "Retail_market             59\n",
       "Pharma                    56\n",
       "Consumer Good             52\n",
       "Govt                      50\n",
       "Media_Journal             48\n",
       "Automobiles               43\n",
       "Management                43\n",
       "Consulting                42\n",
       "Govt Bank Special         41\n",
       "Healthcare                33\n",
       "Manufacturing             30\n",
       "Payment                   28\n",
       "Hospitality               27\n",
       "Industries                27\n",
       "Share_market              14\n",
       "Holding                   14\n",
       "Logistics                 11\n",
       "Electronics               11\n",
       "Airpline                  10\n",
       "Knowledge                  9\n",
       "Energy                     9\n",
       "International Org          8\n",
       "Real Estate                7\n",
       "Energy                     4\n",
       "Research Development       3\n",
       "Tax_audit                  2\n",
       "Name: Client Category, dtype: int64"
      ]
     },
     "execution_count": 10,
     "metadata": {},
     "output_type": "execute_result"
    }
   ],
   "source": [
    "df[df['Location']=='L10']['Client Category'].value_counts()"
   ]
  },
  {
   "cell_type": "markdown",
   "metadata": {},
   "source": [
    "This direction didn't give us much results."
   ]
  },
  {
   "cell_type": "markdown",
   "metadata": {},
   "source": [
    "Let's instead look at Deal Cost.  \n",
    "Perhaps the cost of the deal tells us about the type of client."
   ]
  },
  {
   "cell_type": "code",
   "execution_count": 11,
   "metadata": {},
   "outputs": [
    {
     "data": {
      "image/png": "[encoded data removed]",
      "text/plain": [
       "<Figure size 1008x504 with 1 Axes>"
      ]
     },
     "metadata": {
      "needs_background": "light"
     },
     "output_type": "display_data"
    }
   ],
   "source": [
    "plt.figure(figsize = (14,7))\n",
    "sns.boxplot(data = df, y = 'Deal Cost', x = 'Client Category')\n",
    "plt.xticks(rotation = 45);"
   ]
  },
  {
   "cell_type": "code",
   "execution_count": 12,
   "metadata": {},
   "outputs": [
    {
     "data": {
      "image/png": "[encoded data removed]",
      "text/plain": [
       "<Figure size 720x360 with 1 Axes>"
      ]
     },
     "metadata": {
      "needs_background": "light"
     },
     "output_type": "display_data"
    }
   ],
   "source": [
    "# As the above graph is not comprehensible, lets make another without outliers and only the major ones. \n",
    "plt.figure(figsize = (10,5))\n",
    "df_cc = df[df['Client Category'].isin(['Others',\n",
    "                                       'Services_based',\n",
    "                                       'Domestic Public Bank',\n",
    "                                       'International Bank',\n",
    "                                       'Internal',\n",
    "                                       'Finance',\n",
    "                                       'Tech',\n",
    "                                       'Domestic Private Bank',\n",
    "                                       'Insurance',\n",
    "                                       'Telecom'])]\n",
    "sns.boxplot(data = df_cc, y = 'Deal Cost', x = 'Client Category', showfliers=False)\n",
    "plt.xticks(rotation = 45);"
   ]
  },
  {
   "cell_type": "markdown",
   "metadata": {},
   "source": [
    "Still there isn't much information we can take from this.  \n",
    "In light of this information, we can choose to drop those rows altogether."
   ]
  },
  {
   "cell_type": "code",
   "execution_count": 13,
   "metadata": {},
   "outputs": [
    {
     "data": {
      "text/plain": [
       "Client Category     79\n",
       "Solution Type        0\n",
       "Deal Date            0\n",
       "Sector               0\n",
       "Location             0\n",
       "VP Name              0\n",
       "Manager Name         0\n",
       "Deal Cost            0\n",
       "Deal Status Code     0\n",
       "dtype: int64"
      ]
     },
     "execution_count": 13,
     "metadata": {},
     "output_type": "execute_result"
    }
   ],
   "source": [
    "df.isna().sum()"
   ]
  },
  {
   "cell_type": "code",
   "execution_count": 27,
   "metadata": {},
   "outputs": [
    {
     "name": "stdout",
     "output_type": "stream",
     "text": [
      "The proportion of null values to the total data is 0.008%\n"
     ]
    }
   ],
   "source": [
    "print(\"The proportion of null values to the total data is {:.3f}%\".format(79/len(df)))"
   ]
  },
  {
   "cell_type": "markdown",
   "metadata": {},
   "source": [
    "Considering this, we will drop the null rows."
   ]
  },
  {
   "cell_type": "code",
   "execution_count": 29,
   "metadata": {},
   "outputs": [
    {
     "data": {
      "text/plain": [
       "(9982, 9)"
      ]
     },
     "execution_count": 29,
     "metadata": {},
     "output_type": "execute_result"
    }
   ],
   "source": [
    "df = df.dropna()\n",
    "df.shape"
   ]
  },
  {
   "cell_type": "code",
   "execution_count": null,
   "metadata": {},
   "outputs": [],
   "source": []
  }
 ],
 "metadata": {
  "kernelspec": {
   "display_name": "Python 3",
   "language": "python",
   "name": "python3"
  },
  "language_info": {
   "codemirror_mode": {
    "name": "ipython",
    "version": 3
   },
   "file_extension": ".py",
   "mimetype": "text/x-python",
   "name": "python",
   "nbconvert_exporter": "python",
   "pygments_lexer": "ipython3",
   "version": "3.8.5"
  }
 },
 "nbformat": 4,
 "nbformat_minor": 4
}
